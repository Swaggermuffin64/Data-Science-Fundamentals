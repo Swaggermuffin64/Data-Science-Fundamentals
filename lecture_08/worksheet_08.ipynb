{
 "cells": [
  {
   "attachments": {},
   "cell_type": "markdown",
   "metadata": {},
   "source": [
    "# Worksheet 08\n",
    "\n",
    "Name:  Jackson Fisk\n",
    "UID:   U59841760\n",
    "\n",
    "### Topics\n",
    "\n",
    "- Soft Clustering\n",
    "- Clustering Aggregation\n",
    "\n",
    "### Probability Review\n",
    "\n",
    "Read through [the following](https://medium.com/@gallettilance/overview-of-probability-3272b72c82c8)\n",
    "\n",
    "### Soft Clustering\n",
    "\n",
    "We generate 10 data points that come from a normal distribution with mean 5 and variance 1."
   ]
  },
  {
   "cell_type": "code",
   "execution_count": 14,
   "metadata": {},
   "outputs": [
    {
     "name": "stdout",
     "output_type": "stream",
     "text": [
      "[6.106538841201122, 4.60223258272694, 3.888411721621007, 3.891910448806363, 4.018509459979799, 5.633782060625073, 4.503027293159177, 3.7230884404787363, 5.468485185425828, 4.2131082337173815]\n"
     ]
    }
   ],
   "source": [
    "import random\n",
    "import numpy as np\n",
    "from sklearn.cluster import KMeans\n",
    "\n",
    "mean = 5\n",
    "stdev = 1\n",
    "\n",
    "c1 = np.random.normal(mean, stdev, 10).tolist()\n",
    "print(c1)"
   ]
  },
  {
   "cell_type": "markdown",
   "metadata": {},
   "source": [
    "a) Generate 10 more data points, this time coming from a normal distribution with mean 8 and variance 1."
   ]
  },
  {
   "cell_type": "code",
   "execution_count": 15,
   "metadata": {},
   "outputs": [
    {
     "name": "stdout",
     "output_type": "stream",
     "text": [
      "[7.641394657685791, 8.123308996708992, 7.5998967921846345, 8.784146459305914, 7.270185182895268, 8.077573348313859, 7.771986679283963, 5.773968530388815, 8.636836280820258, 8.0766728991467]\n"
     ]
    }
   ],
   "source": [
    "c2 = np.random.normal(8,1,10).tolist()\n",
    "print(c2)"
   ]
  },
  {
   "cell_type": "markdown",
   "metadata": {},
   "source": [
    "b) Flip a fair coin 10 times. If the coin lands on H, then pick the last data point of `c1` and remove it from `c1`, if T then pick the last data point from `c2` and remove it from `c2`. Add these 10 points to a list called `data`."
   ]
  },
  {
   "cell_type": "code",
   "execution_count": 16,
   "metadata": {},
   "outputs": [
    {
     "name": "stdout",
     "output_type": "stream",
     "text": [
      "[8.0766728991467, 8.636836280820258, 5.773968530388815, 7.771986679283963, 4.2131082337173815, 8.077573348313859, 7.270185182895268, 8.784146459305914, 7.5998967921846345, 8.123308996708992]\n"
     ]
    }
   ],
   "source": [
    "data = []\n",
    "for i in range(10):\n",
    "    # flip coin\n",
    "    coin_output = random.choice([0, 1])\n",
    "    if coin_output == 0:\n",
    "        p1 = c1.pop()\n",
    "        data.append(p1)\n",
    "    else:\n",
    "        p2 = c2.pop()\n",
    "        data.append(p2)\n",
    "print(data)"
   ]
  },
  {
   "cell_type": "markdown",
   "metadata": {},
   "source": [
    "c) This `data` is a Gaussian Mixture Distribution with 2 mixture components. Over the next few questions we will walk through the GMM algorithm to see if we can uncover the parameters we used to generate this data. First, please list all these parameters of the GMM that created `data` and the values we know they have."
   ]
  },
  {
   "cell_type": "markdown",
   "metadata": {},
   "source": [
    "It's a Gaussian mixture model with 2 mixture components\n",
    "K = 2 \n",
    "pi = .5\n",
    "We need to estimate mean and covariance matrices.\n"
   ]
  },
  {
   "cell_type": "markdown",
   "metadata": {},
   "source": [
    "d) Let's assume there are two mixture components (note: we could plot the data and make the observation that there are two clusters). The EM algorithm asks us to start with a random `mean_j`, `variance_j`, `P(C_j)` for each component j. One method we could use to find sensible values for these is to apply K means with k=2 here.\n",
    "\n",
    "1. the centroids would be the estimates of the `mean_j`\n",
    "2. the intra-cluster variance could be the estimate of `variance_j`\n",
    "3. the proportion of points in each cluster could be the estimate of `P(C_j)`\n",
    "\n",
    "Go through this process and list the parameter estimates it gives. Are they close or far from the true values?"
   ]
  },
  {
   "cell_type": "code",
   "execution_count": 17,
   "metadata": {},
   "outputs": [
    {
     "name": "stdout",
     "output_type": "stream",
     "text": [
      "[8.0766728991467, 8.636836280820258, 7.771986679283963, 8.077573348313859, 7.270185182895268, 8.784146459305914, 7.5998967921846345, 8.123308996708992]\n",
      "[5.773968530388815, 4.2131082337173815]\n",
      "P(C_1) = 0.8,  P(C_2) = 0.2\n",
      "mean_1 = 8.04257582983245,  mean_2 = 4.993538382053098\n",
      "var_1 = 0.2222185366273602,  var_2 = 0.6090712164313086\n"
     ]
    }
   ],
   "source": [
    "kmeans = KMeans(2, init='k-means++').fit(X=np.array(data).reshape(-1, 1))\n",
    "\n",
    "c1 = [x[0] for x in filter(lambda x: x[1] == 0, zip(data, kmeans.labels_))]\n",
    "print(c1)\n",
    "c2 = [x[0] for x in filter(lambda x: x[1] == 1, zip(data, kmeans.labels_))]\n",
    "print(c2)\n",
    "\n",
    "prob_c = [ len(c1) / (len(c1) + len(c2)) , len(c2) / (len(c1) + len(c2))]\n",
    "mean = [ sum(c1)/len(c1) , sum(c2) / len(c2) ]\n",
    "var = [ sum(map(lambda x : (x - mean[0])**2, c1)) / len(c1) , sum(map(lambda x: (x - mean[1]) ** 2, c2)) / len(c2) ]\n",
    "\n",
    "print(\"P(C_1) = \" + str(prob_c[0]) + \",  P(C_2) = \" + str(prob_c[1]))\n",
    "print(\"mean_1 = \" + str(mean[0]) + \",  mean_2 = \" + str(mean[1]))\n",
    "print(\"var_1 = \" + str(var[0]) + \",  var_2 = \" + str(var[1]))"
   ]
  },
  {
   "cell_type": "markdown",
   "metadata": {},
   "source": []
  },
  {
   "cell_type": "markdown",
   "metadata": {},
   "source": [
    "e) For each data point, compute `P(C_j | X_i)`. Comment on which cluster you think each point belongs to based on the estimated probabilities. How does that compare to the truth?"
   ]
  },
  {
   "cell_type": "code",
   "execution_count": 18,
   "metadata": {},
   "outputs": [
    {
     "name": "stdout",
     "output_type": "stream",
     "text": [
      "point =  8.0766728991467\n",
      "probability of observing that point if it came from cluster 0 =  1.7742603481050947\n",
      "probability of observing that point if it came from cluster 1 =  1.7866403630154604e-06\n",
      "point =  8.636836280820258\n",
      "probability of observing that point if it came from cluster 0 =  0.05025922436438356\n",
      "probability of observing that point if it came from cluster 1 =  1.112969625018389e-08\n",
      "point =  5.773968530388815\n",
      "probability of observing that point if it came from cluster 0 =  4.194486359297036e-23\n",
      "probability of observing that point if it came from cluster 1 =  0.28821731458423494\n",
      "point =  7.771986679283963\n",
      "probability of observing that point if it came from cluster 0 =  0.8553826749481045\n",
      "probability of observing that point if it came from cluster 1 =  1.9835597678872908e-05\n",
      "point =  4.2131082337173815\n",
      "probability of observing that point if it came from cluster 0 =  5.852902764738405e-65\n",
      "probability of observing that point if it came from cluster 1 =  0.2882173145842355\n",
      "point =  8.077573348313859\n",
      "probability of observing that point if it came from cluster 0 =  1.7731429878256302\n",
      "probability of observing that point if it came from cluster 1 =  1.7733176770026253e-06\n",
      "point =  7.270185182895268\n",
      "probability of observing that point if it came from cluster 0 =  0.004272776415905098\n",
      "probability of observing that point if it came from cluster 1 =  0.0006057376434031276\n",
      "point =  8.784146459305914\n",
      "probability of observing that point if it came from cluster 0 =  0.0068531963960247804\n",
      "probability of observing that point if it came from cluster 1 =  2.5437159932191538e-09\n",
      "point =  7.5998967921846345\n",
      "probability of observing that point if it came from cluster 0 =  0.24683053708412103\n",
      "probability of observing that point if it came from cluster 1 =  6.916322004597295e-05\n",
      "point =  8.123308996708992\n",
      "probability of observing that point if it came from cluster 0 =  1.6806154858496134\n",
      "probability of observing that point if it came from cluster 1 =  1.2090201324410077e-06\n",
      "8.0766728991467\n",
      "Probability of coming from C_1 = 0.9999997482556724\n",
      "Probability of coming from C_2 = 2.5174432759360967e-07\n",
      "\n",
      "8.636836280820258\n",
      "Probability of coming from C_1 = 0.9999999446385426\n",
      "Probability of coming from C_2 = 5.5361457398031375e-08\n",
      "\n",
      "5.773968530388815\n",
      "Probability of coming from C_1 = 5.821282965387074e-22\n",
      "Probability of coming from C_2 = 1.0\n",
      "\n",
      "7.771986679283963\n",
      "Probability of coming from C_1 = 0.9999942027459557\n",
      "Probability of coming from C_2 = 5.797254044243254e-06\n",
      "\n",
      "4.2131082337173815\n",
      "Probability of coming from C_1 = 8.122902363699337e-64\n",
      "Probability of coming from C_2 = 1.0\n",
      "\n",
      "8.077573348313859\n",
      "Probability of coming from C_1 = 0.9999997499754326\n",
      "Probability of coming from C_2 = 2.500245673650132e-07\n",
      "\n",
      "7.270185182895268\n",
      "Probability of coming from C_1 = 0.9657714298028099\n",
      "Probability of coming from C_2 = 0.034228570197190056\n",
      "\n",
      "8.784146459305914\n",
      "Probability of coming from C_1 = 0.9999999072069583\n",
      "Probability of coming from C_2 = 9.27930417496681e-08\n",
      "\n",
      "7.5998967921846345\n",
      "Probability of coming from C_1 = 0.9999299535865502\n",
      "Probability of coming from C_2 = 7.004641344974325e-05\n",
      "\n",
      "8.123308996708992\n",
      "Probability of coming from C_1 = 0.9999998201522112\n",
      "Probability of coming from C_2 = 1.7984778867936673e-07\n",
      "\n"
     ]
    }
   ],
   "source": [
    "from scipy.stats import norm\n",
    "\n",
    "prob_c0_x = [] # P(C_0 | X_i)\n",
    "prob_c1_x = [] # P(C_1 | X_i)\n",
    "prob_x = [] # P(X_i)\n",
    "\n",
    "k = 2\n",
    "\n",
    "for p in data:\n",
    "    print(\"point = \", p)\n",
    "    pdf_i = []\n",
    "\n",
    "    for j in range(k):\n",
    "        # P(X_i | C_j)\n",
    "        pdf_i.append(norm.pdf(p, mean[j], var[j]))\n",
    "        print(\"probability of observing that point if it came from cluster \" + str(j) + \" = \", pdf_i[j])\n",
    "        # P(C_j) already computed\n",
    "        prob_c[j]\n",
    "\n",
    "    # P(X_i) = P(C_0)P(X_i | C_0) + P(C_1)P(X_i | C_1)\n",
    "    prob_x = prob_c[0] * pdf_i[0] + prob_c[1] * pdf_i[1]\n",
    "\n",
    "    # P(C_j | X_i) = P(X_i | C_j)P(C_j) / P(X_i)\n",
    "    prob_c0_x_i = (pdf_i[0] * prob_c[0]) / prob_x\n",
    "    prob_c1_x_i = (pdf_i[1] * prob_c[1]) / prob_x\n",
    "\n",
    "    prob_c0_x.append(prob_c0_x_i)\n",
    "    prob_c1_x.append(prob_c1_x_i)\n",
    "\n",
    "probs = zip(data, prob_c0_x, prob_c1_x)\n",
    "for p in probs:\n",
    "    print(p[0])\n",
    "    print(\"Probability of coming from C_1 = \" + str(p[1]))\n",
    "    print(\"Probability of coming from C_2 = \" + str(p[2]))\n",
    "    print()\n"
   ]
  },
  {
   "cell_type": "markdown",
   "metadata": {},
   "source": [
    "f) Having computed `P(C_j | X_i)`, update the estimates of `mean_j`, `var_j`, and `P(C_j)`. How different are these values from the original ones you got from K means? briefly comment."
   ]
  },
  {
   "cell_type": "code",
   "execution_count": 20,
   "metadata": {},
   "outputs": [
    {
     "name": "stdout",
     "output_type": "stream",
     "text": [
      "P(C_1) = 0.7965694756364133,  P(C_2) = 0.20343052436358663\n",
      "mean_1 = 8.04589886334999,  mean_2 = 5.031943484767878\n",
      "var_1 = 0.22059918576528678,  var_2 = 0.6847949347872997\n"
     ]
    }
   ],
   "source": [
    "prob_c = [sum(prob_c0_x) / len(prob_c0_x), sum(prob_c1_x) / len(prob_c1_x)]\n",
    "mean = [sum([x[0] * x[1] for x in zip(prob_c0_x, data)]) / sum(prob_c0_x),\n",
    "        sum([x[0] * x[1] for x in zip(prob_c1_x, data)]) / sum(prob_c1_x)]\n",
    "\n",
    "var = [sum([x[0] * (x[1] - mean[0]) ** 2 for x in zip(prob_c0_x, data)]) / sum(prob_c0_x),\n",
    "       sum([x[0] * (x[1] - mean[1]) ** 2 for x in zip(prob_c1_x, data)]) / sum(prob_c1_x)]\n",
    "\n",
    "print(\"P(C_1) = \" + str(prob_c[0]) + \",  P(C_2) = \" + str(prob_c[1]))\n",
    "print(\"mean_1 = \" + str(mean[0]) + \",  mean_2 = \" + str(mean[1]))\n",
    "print(\"var_1 = \" + str(var[0]) + \",  var_2 = \" + str(var[1]))\n"
   ]
  },
  {
   "cell_type": "markdown",
   "metadata": {},
   "source": []
  },
  {
   "cell_type": "markdown",
   "metadata": {},
   "source": [
    "g) Update `P(C_j | X_i)`. Comment on any differences or lack thereof you observe."
   ]
  },
  {
   "cell_type": "code",
   "execution_count": 24,
   "metadata": {},
   "outputs": [
    {
     "name": "stdout",
     "output_type": "stream",
     "text": [
      "Data Point = 8.0766728991467\n",
      "Probability of coming from C_0 = 0.999995765922359\n",
      "Probability of coming from C_1 = 4.234077640999658e-06\n",
      "\n",
      "Data Point = 8.636836280820258\n",
      "Probability of coming from C_0 = 0.9999971428597743\n",
      "Probability of coming from C_1 = 2.857140225831975e-06\n",
      "\n",
      "Data Point = 5.773968530388815\n",
      "Probability of coming from C_0 = 2.029853685591542e-22\n",
      "Probability of coming from C_1 = 1.0\n",
      "\n",
      "Data Point = 7.771986679283963\n",
      "Probability of coming from C_0 = 0.9999406458727538\n",
      "Probability of coming from C_1 = 5.935412724623633e-05\n",
      "\n",
      "Data Point = 4.2131082337173815\n",
      "Probability of coming from C_0 = 6.992540004316503e-65\n",
      "Probability of coming from C_1 = 1.0\n",
      "\n",
      "Data Point = 8.077573348313859\n",
      "Probability of coming from C_0 = 0.9999957881749998\n",
      "Probability of coming from C_1 = 4.211825000116572e-06\n",
      "\n",
      "Data Point = 7.270185182895268\n",
      "Probability of coming from C_0 = 0.8398004117172668\n",
      "Probability of coming from C_1 = 0.1601995882827331\n",
      "\n",
      "Data Point = 8.784146459305914\n",
      "Probability of coming from C_0 = 0.9999932735427012\n",
      "Probability of coming from C_1 = 6.726457298786774e-06\n",
      "\n",
      "Data Point = 7.5998967921846345\n",
      "Probability of coming from C_0 = 0.9994389120654237\n",
      "Probability of coming from C_1 = 0.0005610879345763792\n",
      "\n",
      "Data Point = 8.123308996708992\n",
      "Probability of coming from C_0 = 0.9999967132813503\n",
      "Probability of coming from C_1 = 3.2867186497914053e-06\n",
      "\n"
     ]
    }
   ],
   "source": [
    "from scipy.stats import norm\n",
    "\n",
    "prob_c0_x = []  # P(C_0 | X_i)\n",
    "prob_c1_x = []  # P(C_1 | X_i)\n",
    "prob_x = []  # P(X_i)\n",
    "\n",
    "k = 2\n",
    "\n",
    "for p in data:\n",
    "    pdf_i = []\n",
    "\n",
    "    for j in range(k):\n",
    "        pdf_i.append(norm.pdf(p, mean[j], var[j]))\n",
    "        prob_c[j]\n",
    "    prob_x_i = prob_c[0] * pdf_i[0] + prob_c[1] * pdf_i[1]\n",
    "    prob_x.append(prob_x_i)\n",
    "\n",
    "    prob_c0_x_i = pdf_i[0] * prob_c[0] / prob_x_i\n",
    "    prob_c1_x_i = pdf_i[1] * prob_c[1] / prob_x_i\n",
    "\n",
    "    prob_c0_x.append(prob_c0_x_i)\n",
    "    prob_c1_x.append(prob_c1_x_i)\n",
    "\n",
    "probs = zip(data, prob_c0_x, prob_c1_x)\n",
    "for p in probs:\n",
    "    print(\"Data Point =\", p[0])\n",
    "    print(\"Probability of coming from C_0 =\", p[1])\n",
    "    print(\"Probability of coming from C_1 =\", p[2])\n",
    "    print()\n"
   ]
  },
  {
   "cell_type": "markdown",
   "metadata": {},
   "source": []
  },
  {
   "cell_type": "markdown",
   "metadata": {},
   "source": [
    "h) Use `P(C_j | X_i)` to create a hard assignment - label each point as belonging to a specific cluster (0 or 1)"
   ]
  },
  {
   "cell_type": "code",
   "execution_count": 25,
   "metadata": {},
   "outputs": [],
   "source": [
    "# Create an empty list to store the hard assignments\n",
    "hard_assignments = []\n",
    "\n",
    "# Assign each data point to a cluster based on the higher probability\n",
    "for p in zip(prob_c0_x, prob_c1_x):\n",
    "    if p[0] > p[1]:\n",
    "        hard_assignments.append(0)\n",
    "    else:\n",
    "        hard_assignments.append(1)\n",
    "\n",
    "# Now, the 'hard_assignments' list contains the cluster assignments (0 or 1) for each data point\n"
   ]
  },
  {
   "cell_type": "markdown",
   "metadata": {},
   "source": [
    "### Clustering Aggregation\n",
    "\n",
    "| Point | C | P |\n",
    "|-------|---|---|\n",
    "| A     | 0 | a |\n",
    "| B     | 0 | b |\n",
    "| C     | 2 | b |\n",
    "| D     | 1 | c |\n",
    "| E     | 1 | d |\n",
    "\n",
    "a) Fill in the following table where for each pair of points determine whether C and P agree or disagree on how to cluster that pair."
   ]
  },
  {
   "cell_type": "markdown",
   "metadata": {},
   "source": [
    "| Pair | Disagreement |\n",
    "|------|--------------|\n",
    "| A  B |      1       |\n",
    "| A  C |      0       |\n",
    "| A  D |      1       |\n",
    "| A  E |      1       |\n",
    "| B  C |      1       |\n",
    "| B  D |      1       |\n",
    "| B  E |      1       |\n",
    "| C  D |      1       |\n",
    "| C  E |      1       |\n",
    "| D  E |      0       |\n"
   ]
  },
  {
   "cell_type": "markdown",
   "metadata": {},
   "source": [
    "As datasets become very large, this process can become computationally challenging.\n",
    "\n",
    "b) Given N points, what is the formula for the number of unique pairs of points one can create?"
   ]
  },
  {
   "cell_type": "markdown",
   "metadata": {},
   "source": [
    "(N choose 2)"
   ]
  },
  {
   "cell_type": "markdown",
   "metadata": {},
   "source": [
    "Assume that clustering C clusters all points in the same cluster and clustering P clusters points as such:\n",
    "\n",
    "| Point | P |\n",
    "|-------|---|\n",
    "| A     | 0 |\n",
    "| B     | 0 |\n",
    "| C     | 0 |\n",
    "| D     | 1 |\n",
    "| E     | 1 |\n",
    "| F     | 2 |\n",
    "| G     | 2 |\n",
    "| H     | 2 |\n",
    "| I     | 2 |\n",
    "\n",
    "c) What is the maximum number of disagreements there could be for a dataset of this size? (use the formula from b)?"
   ]
  },
  {
   "cell_type": "markdown",
   "metadata": {},
   "source": [
    "(9 choose 2) = 9! / (2! * (9-2)!) = 36 -3 = 33"
   ]
  },
  {
   "cell_type": "markdown",
   "metadata": {},
   "source": [
    "d) If we look at cluster 0. There are (3 x 2) / 2 = 3 pairs that agree with C (since all points in C are in the same cluster). For each cluster, determine how many agreements there are. How many total agreements are there? How many disagreements does that mean there are between C and P?"
   ]
  },
  {
   "cell_type": "markdown",
   "metadata": {},
   "source": [
    "32"
   ]
  },
  {
   "cell_type": "markdown",
   "metadata": {},
   "source": [
    "e) Assuming that filtering the dataset by cluster number is a computationally easy operation, describe an algorithm inspired by the above process that can efficiently compute disagreement distances on large datasets."
   ]
  },
  {
   "cell_type": "markdown",
   "metadata": {},
   "source": [
    "1 Group the points in the dataset by cluster number.\n",
    "2 For each pair of clusters, count the number of pairs of points that belong to different clusters in each partition.\n",
    "3 For each cluster, count the number of pairs of points that belong to different partitions.\n",
    "4 Add up the counts from steps 2 and 3 to get the total number of disagreements between partitions C and P."
   ]
  }
 ],
 "metadata": {
  "interpreter": {
   "hash": "76ca05dc3ea24b2e3b98cdb7774adfbb40773424bf5109b477fd793f623715af"
  },
  "kernelspec": {
   "display_name": "Python 3 (ipykernel)",
   "language": "python",
   "name": "python3"
  },
  "language_info": {
   "codemirror_mode": {
    "name": "ipython",
    "version": 3
   },
   "file_extension": ".py",
   "mimetype": "text/x-python",
   "name": "python",
   "nbconvert_exporter": "python",
   "pygments_lexer": "ipython3",
   "version": "3.9.7"
  },
  "orig_nbformat": 4
 },
 "nbformat": 4,
 "nbformat_minor": 2
}

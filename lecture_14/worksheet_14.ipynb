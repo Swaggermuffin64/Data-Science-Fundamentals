{
 "cells": [
  {
   "attachments": {},
   "cell_type": "markdown",
   "metadata": {},
   "source": [
    "# Worksheet 14\n",
    "\n",
    "Name: Jackson Fisk \n",
    "UID: U59841760\n",
    "\n",
    "### Topics\n",
    "\n",
    "- Naive Bayes\n",
    "- Model Evaluation\n",
    "\n",
    "### Naive Bayes\n",
    "\n",
    "| Attribute A | Attribute B | Attribute C | Class |\n",
    "|-------------|-------------|-------------|-------|\n",
    "| Yes         | Single      | High        | No    |\n",
    "| No          | Married     | Mid         | No    |\n",
    "| No          | Single      | Low         | No    |\n",
    "| Yes         | Married     | High        | No    |\n",
    "| No          | Divorced    | Mid         | Yes   |\n",
    "| No          | Married     | Low         | No    |\n",
    "| Yes         | Divorced    | High        | No    |\n",
    "| No          | Single      | Mid         | Yes   |\n",
    "| No          | Married     | Low         | No    |\n",
    "| No          | Single      | Mid         | Yes   |\n",
    "\n",
    "a) Compute the following probabilities:\n",
    "\n",
    "- P(Attribute A = Yes | Class = No)\n",
    "- P(Attribute B = Divorced | Class = Yes)\n",
    "- P(Attribute C = High | Class = No)\n",
    "- P(Attribute C = Mid | Class = Yes)"
   ]
  },
  {
   "cell_type": "markdown",
   "metadata": {},
   "source": [
    "- 7/10\n",
    "- 4/10\n",
    "- 7/10\n",
    "- 4/10\n"
   ]
  },
  {
   "cell_type": "markdown",
   "metadata": {},
   "source": [
    "b) Classify the following unseen records:\n",
    "\n",
    "- (Yes, Married, Mid)\n",
    "- (No, Divorced, High)\n",
    "- (No, Single, High)\n",
    "- (No, Divorced, Low)"
   ]
  },
  {
   "cell_type": "markdown",
   "metadata": {},
   "source": [
    "- P(yes | class yes) * P(Married | class yes) * P(Mid | class Yes) = 0 No\n",
    "- 1 * 1/3 * 0 = 0 No\n",
    "- 1 * 2/3 * 0 = 0 No\n",
    "- 1 * 1/3 * 0 = 0 No"
   ]
  },
  {
   "cell_type": "markdown",
   "metadata": {},
   "source": [
    "### Model Evaluation\n",
    "\n",
    "a) Write a function to generate the confusion matrix for a list of actual classes and a list of predicted classes"
   ]
  },
  {
   "cell_type": "code",
   "execution_count": 10,
   "metadata": {},
   "outputs": [
    {
     "name": "stdout",
     "output_type": "stream",
     "text": [
      "[[2, 4], [3, 1]]\n"
     ]
    }
   ],
   "source": [
    "actual_class = [\"Yes\", \"No\", \"No\", \"Yes\", \"No\", \"No\", \"Yes\", \"No\", \"No\", \"No\"]\n",
    "predicted_class = [\"Yes\", \"No\", \"Yes\", \"No\", \"No\", \"No\", \"Yes\", \"Yes\", \"Yes\", \"No\"]\n",
    "\n",
    "def confusion_matrix(actual, predicted):\n",
    "    retVal = [[0,0],[0,0]]\n",
    "    for x in range (len(actual_class)):\n",
    "        if actual_class[x]==\"Yes\" and predicted_class[x]==\"Yes\": #True postive\n",
    "            retVal[0][0]+=1\n",
    "        if actual_class[x]==\"No\" and predicted_class[x]==\"No\": #True Negative\n",
    "            retVal[0][1]+=1\n",
    "        if actual_class[x]==\"No\" and predicted_class[x]==\"Yes\":#False positive\n",
    "            retVal[1][0]+=1\n",
    "        if actual_class[x]==\"Yes\" and predicted_class[x]==\"No\": # False negative\n",
    "            retVal[1][1]+=1\n",
    "    return retVal\n",
    "\n",
    "print(confusion_matrix(actual_class, predicted_class))"
   ]
  },
  {
   "cell_type": "markdown",
   "metadata": {},
   "source": [
    "b) Assume you have the following Cost Matrix:\n",
    "\n",
    "|            | predicted = Y | predicted = N |\n",
    "|------------|---------------|---------------|\n",
    "| actual = Y |       -1      |       5       |\n",
    "| actual = N |        10     |       0       |\n",
    "\n",
    "What is the cost of the above classification?"
   ]
  },
  {
   "cell_type": "markdown",
   "metadata": {},
   "source": [
    "Cost of Prediciting y when actual is y + Cost of Prediciting n when actual is n = -1 + 0 = -1"
   ]
  },
  {
   "cell_type": "markdown",
   "metadata": {},
   "source": [
    "c) Write a function that takes in the actual values, the predictions, and a cost matrix and outputs a cost. Test it on the above example."
   ]
  },
  {
   "cell_type": "code",
   "execution_count": 11,
   "metadata": {},
   "outputs": [
    {
     "name": "stdout",
     "output_type": "stream",
     "text": [
      "-1\n"
     ]
    }
   ],
   "source": [
    "def costCalc (actual_vals,predictions):\n",
    "    return actual_vals[0]+predictions[1]\n",
    "print (costCalc([-1,10],[5,0]))"
   ]
  },
  {
   "cell_type": "markdown",
   "metadata": {},
   "source": [
    "d) Implement functions for the following:\n",
    "\n",
    "- accuracy\n",
    "- precision\n",
    "- recall\n",
    "- f-measure\n",
    "\n",
    "and apply them to the above example."
   ]
  },
  {
   "cell_type": "code",
   "execution_count": 12,
   "metadata": {},
   "outputs": [
    {
     "name": "stdout",
     "output_type": "stream",
     "text": [
      "Accuracy: 0.07142857142857142\n",
      "Precision: 0.1111111111111111\n",
      "Recall: 0.25\n",
      "F1-Score: 0.15384615384615383\n"
     ]
    }
   ],
   "source": [
    "def calculate_accuracy(confusion_matrix):\n",
    "    tp = confusion_matrix[0][0]\n",
    "    tn = confusion_matrix[1][1]\n",
    "    fp = confusion_matrix[0][1]\n",
    "    fn = confusion_matrix[1][0]\n",
    "    accuracy = (tp + tn) / (tp + tn + fp + fn)\n",
    "    \n",
    "    return accuracy\n",
    "\n",
    "def calculate_precision(confusion_matrix):\n",
    "    tp = confusion_matrix[0][0]\n",
    "    fp = confusion_matrix[0][1]\n",
    "\n",
    "    precision = tp / (tp + fp)\n",
    "    return precision\n",
    "\n",
    "def calculate_recall(confusion_matrix):\n",
    "    tp = confusion_matrix[0][0]\n",
    "    fn = confusion_matrix[1][0]\n",
    "\n",
    "    return tp / (tp + fn)\n",
    "\n",
    "def calculate_f1_score(confusion_matrix):\n",
    "    tp = confusion_matrix[0][0]\n",
    "    fp = confusion_matrix[0][1]\n",
    "    fn = confusion_matrix[1][0]\n",
    "    \n",
    "    precision = tp / (tp + fp)\n",
    "    recall = tp / (tp + fn)\n",
    "    \n",
    "    f1_score = 2 * (precision * recall) / (precision + recall)\n",
    "    \n",
    "    return f1_score\n",
    "\n",
    "# Given confusion matrix as a 2D list\n",
    "confusion_matrix = [[-1, 10], [5, 0]]\n",
    "\n",
    "# Calculate F1-Score\n",
    "f1_score = calculate_f1_score(confusion_matrix)\n",
    "precision = calculate_precision(confusion_matrix)\n",
    "recall = calculate_recall(confusion_matrix)\n",
    "accuracy = calculate_accuracy(confusion_matrix)\n",
    "\n",
    "print(\"Accuracy:\", abs(accuracy))\n",
    "print(\"Precision:\", abs(precision))\n",
    "print(\"Recall:\", abs(recall))\n",
    "print(\"F1-Score:\", abs(f1_score))\n"
   ]
  }
 ],
 "metadata": {
  "kernelspec": {
   "display_name": "Python 3",
   "language": "python",
   "name": "python3"
  },
  "language_info": {
   "codemirror_mode": {
    "name": "ipython",
    "version": 3
   },
   "file_extension": ".py",
   "mimetype": "text/x-python",
   "name": "python",
   "nbconvert_exporter": "python",
   "pygments_lexer": "ipython3",
   "version": "3.10.4"
  },
  "orig_nbformat": 4,
  "vscode": {
   "interpreter": {
    "hash": "e7370f93d1d0cde622a1f8e1c04877d8463912d04d973331ad4851f04de6915a"
   }
  }
 },
 "nbformat": 4,
 "nbformat_minor": 2
}
